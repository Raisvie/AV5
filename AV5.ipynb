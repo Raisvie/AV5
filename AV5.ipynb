{
 "cells": [
  {
   "cell_type": "markdown",
   "metadata": {},
   "source": [
    "Considere uma cadeia circular (primeira massa conectada a última) composta por N átomos conectados por molas idênticas de constante elástica k . O sistema pode ser de dois tipos:\n",
    "\n",
    "• Cadeia Ternária: As massas alternam entre m e m2=3m e m3=5m  ao longo da cadeia.\n",
    "\n",
    "• Cadeia Homogênea: Todas as massas são iguais a m .\n",
    "Ambos os sistemas devem ser analisados sob condições de contorno com pontas livres (as extremidades da cadeia não estão presas)."
   ]
  },
  {
   "cell_type": "code",
   "execution_count": 2,
   "metadata": {},
   "outputs": [],
   "source": [
    "#Biblioteca\n",
    "import numpy as np\n",
    "import matplotlib.pyplot as plt"
   ]
  },
  {
   "cell_type": "markdown",
   "metadata": {},
   "source": [
    "Parâmetros\n",
    "• Massas: m= 1kg , \n",
    "• Constante elástica:  k = 1N/m\n",
    "• Tamanhos da cadeia: N = 100, 1000 e 10.000"
   ]
  },
  {
   "cell_type": "code",
   "execution_count": 3,
   "metadata": {},
   "outputs": [],
   "source": [
    "m = 1\n",
    "k = 1\n",
    "N1 = 100\n",
    "N2 = 1000\n",
    "N3 = 10000"
   ]
  },
  {
   "cell_type": "markdown",
   "metadata": {},
   "source": [
    "1. Cálculo das Frequências de Vibração\n",
    "\n",
    "• Para cada valor de N , calcule as frequências naturais de vibração para:\n",
    "\n",
    "• Cadeia ternária(alternância  --m--m2--m3--m--m2--m3-- )\n",
    "\n",
    "• Cadeia homogênea (todas as massas iguais)\n",
    "\n",
    "• Considere sempre as pontas livres."
   ]
  },
  {
   "cell_type": "code",
   "execution_count": null,
   "metadata": {},
   "outputs": [],
   "source": [
    "## cadeia ternaria\n",
    "# [m] --- k --- [m2] --- k --- [m3] em uma cadeia circular m se conecta com m3\n",
    "## m e m2=3m e m3=5m\n",
    "m = 1\n",
    "m2 = 3*m\n",
    "m3 = 5*m\n",
    "\n",
    "## cadeia homegenea\n",
    "# todos os m são iguais"
   ]
  },
  {
   "cell_type": "markdown",
   "metadata": {},
   "source": [
    "2. Densidade de Estados\n",
    "• Construa histogramas (densidade de estados) para os valores das frequências em cada caso.\n",
    "• Compare os histogramas entre a cadeia binária e a homogênea, para cada tamanho de N ."
   ]
  },
  {
   "cell_type": "code",
   "execution_count": null,
   "metadata": {},
   "outputs": [],
   "source": [
    "## geração dos histogramas de densidade de estados"
   ]
  },
  {
   "cell_type": "markdown",
   "metadata": {},
   "source": [
    "3. Deslocamentos Relativos (Modos Normais)\n",
    "\n",
    "• Para cada cadeia, obtenha os vetores de deslocamento (modos normais) correspondentes:\n",
    "\n",
    "• Às cinco menores frequências (modos de baixa energia)\n",
    "\n",
    "• Às cinco maiores frequências (modos de alta energia)\n",
    "\n",
    "• Apresente gráficos dos deslocamentos relativos dos átomos para esses modos."
   ]
  },
  {
   "cell_type": "code",
   "execution_count": 4,
   "metadata": {},
   "outputs": [],
   "source": [
    "## adaptar função para o problema\n",
    "def resolver_autovalor(M, K):\n",
    "    #Calcular a serie harmonica e seu inverso\n",
    "    Minv = np.linalg.inv(M)\n",
    "    A = Minv @ K\n",
    "    # Calculando os autovalores e autovetores\n",
    "    eigvals, eigvecs = np.linalg.eig(A)\n",
    "    # Frequências naturais\n",
    "    omegas = np.sqrt(np.clip(eigvals.real, 0, None))\n",
    "    ##ordenação de forma crescente para facilitar a visualização (na saida)\n",
    "    idx = np.argsort(omegas)\n",
    "    return omegas[idx], eigvecs[:, idx]"
   ]
  },
  {
   "cell_type": "markdown",
   "metadata": {},
   "source": [
    "4. Análise e Comparação\n",
    "\n",
    "• Analise como a alternância de massas (ternária) e a homogeneidade afetam:\n",
    "\n",
    "• A distribuição das frequências (densidade de estados)\n",
    "\n",
    "• Os padrões de deslocamento dos modos normais\n",
    "\n",
    "• Discuta a presença de possíveis lacunas de frequência (band gaps) e a localização dos modos."
   ]
  },
  {
   "cell_type": "code",
   "execution_count": null,
   "metadata": {},
   "outputs": [],
   "source": []
  }
 ],
 "metadata": {
  "kernelspec": {
   "display_name": "base",
   "language": "python",
   "name": "python3"
  },
  "language_info": {
   "codemirror_mode": {
    "name": "ipython",
    "version": 3
   },
   "file_extension": ".py",
   "mimetype": "text/x-python",
   "name": "python",
   "nbconvert_exporter": "python",
   "pygments_lexer": "ipython3",
   "version": "3.12.7"
  }
 },
 "nbformat": 4,
 "nbformat_minor": 2
}
